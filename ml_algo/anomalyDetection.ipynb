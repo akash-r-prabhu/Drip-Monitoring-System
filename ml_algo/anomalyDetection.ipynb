{
 "cells": [
  {
   "cell_type": "code",
   "execution_count": 1,
   "metadata": {},
   "outputs": [],
   "source": [
    "import numpy as np\n",
    "import pandas as pd\n",
    "import matplotlib.pyplot as plt\n",
    "import seaborn as sns\n",
    "import requests as req\n",
    "import json"
   ]
  },
  {
   "cell_type": "code",
   "execution_count": 2,
   "metadata": {},
   "outputs": [
    {
     "data": {
      "text/html": [
       "<div>\n",
       "<style scoped>\n",
       "    .dataframe tbody tr th:only-of-type {\n",
       "        vertical-align: middle;\n",
       "    }\n",
       "\n",
       "    .dataframe tbody tr th {\n",
       "        vertical-align: top;\n",
       "    }\n",
       "\n",
       "    .dataframe thead th {\n",
       "        text-align: right;\n",
       "    }\n",
       "</style>\n",
       "<table border=\"1\" class=\"dataframe\">\n",
       "  <thead>\n",
       "    <tr style=\"text-align: right;\">\n",
       "      <th></th>\n",
       "      <th>dateTime</th>\n",
       "      <th>cm</th>\n",
       "      <th>inches</th>\n",
       "    </tr>\n",
       "  </thead>\n",
       "  <tbody>\n",
       "    <tr>\n",
       "      <th>0</th>\n",
       "      <td>2023-05-08T08:16:25.000Z</td>\n",
       "      <td>9.66</td>\n",
       "      <td>3.80</td>\n",
       "    </tr>\n",
       "    <tr>\n",
       "      <th>1</th>\n",
       "      <td>2023-05-08T08:16:26.000Z</td>\n",
       "      <td>9.66</td>\n",
       "      <td>3.80</td>\n",
       "    </tr>\n",
       "    <tr>\n",
       "      <th>2</th>\n",
       "      <td>2023-05-08T08:16:27.000Z</td>\n",
       "      <td>9.25</td>\n",
       "      <td>3.64</td>\n",
       "    </tr>\n",
       "    <tr>\n",
       "      <th>3</th>\n",
       "      <td>2023-05-08T08:16:28.000Z</td>\n",
       "      <td>9.66</td>\n",
       "      <td>3.80</td>\n",
       "    </tr>\n",
       "    <tr>\n",
       "      <th>4</th>\n",
       "      <td>2023-05-08T08:16:29.000Z</td>\n",
       "      <td>9.25</td>\n",
       "      <td>3.64</td>\n",
       "    </tr>\n",
       "  </tbody>\n",
       "</table>\n",
       "</div>"
      ],
      "text/plain": [
       "                   dateTime    cm  inches\n",
       "0  2023-05-08T08:16:25.000Z  9.66    3.80\n",
       "1  2023-05-08T08:16:26.000Z  9.66    3.80\n",
       "2  2023-05-08T08:16:27.000Z  9.25    3.64\n",
       "3  2023-05-08T08:16:28.000Z  9.66    3.80\n",
       "4  2023-05-08T08:16:29.000Z  9.25    3.64"
      ]
     },
     "execution_count": 2,
     "metadata": {},
     "output_type": "execute_result"
    }
   ],
   "source": [
    "# http://localhost:8001/getdataall\n",
    "jsonData = req.get('http://localhost:8001/getdataall').json()\n",
    "df = pd.DataFrame(jsonData)\n",
    "df.head()"
   ]
  },
  {
   "cell_type": "code",
   "execution_count": 4,
   "metadata": {},
   "outputs": [
    {
     "name": "stdout",
     "output_type": "stream",
     "text": [
      "                      dateTime    cm  inches  driprate\n",
      "0    2023-05-08 08:16:25+00:00  9.66    3.80     0.000\n",
      "1    2023-05-08 08:16:26+00:00  9.66    3.80    -0.410\n",
      "2    2023-05-08 08:16:27+00:00  9.25    3.64     0.410\n",
      "3    2023-05-08 08:16:28+00:00  9.66    3.80    -0.410\n",
      "4    2023-05-08 08:16:29+00:00  9.25    3.64     0.205\n",
      "...                        ...   ...     ...       ...\n",
      "2055 2023-05-09 01:05:48+00:00  0.00    0.00     0.000\n",
      "2056 2023-05-09 01:05:50+00:00  0.00    0.00     0.000\n",
      "2057 2023-05-09 01:06:58+00:00  0.00    0.00     0.000\n",
      "2058 2023-05-09 01:07:00+00:00  0.00    0.00     0.000\n",
      "2059 2023-05-09 01:07:02+00:00  0.00    0.00       NaN\n",
      "\n",
      "[2060 rows x 4 columns]\n"
     ]
    }
   ],
   "source": [
    "# add another column driprate to the dataframe where driprate = (cm of next row - cm of current row) / (time of next row - time of current row) where sm is float and time is in format \"\t2023-05-08T08:16:25.000Z\"\n",
    "# Assuming your DataFrame is named 'df'\n",
    "df['dateTime'] = pd.to_datetime(df['dateTime'])  # Convert 'dateTime' column to datetime type\n",
    "\n",
    "# Sort the DataFrame by 'dateTime' column if it's not already sorted\n",
    "df = df.sort_values('dateTime')\n",
    "\n",
    "# Calculate the 'driprate' column\n",
    "df['driprate'] = (df['cm'].shift(-1) - df['cm']) / (df['dateTime'].shift(-1) - df['dateTime']).dt.total_seconds()\n",
    "\n",
    "# Display the updated DataFrame\n",
    "print(df)\n"
   ]
  },
  {
   "cell_type": "code",
   "execution_count": 8,
   "metadata": {},
   "outputs": [],
   "source": [
    "# write df to csv\n",
    "df.to_csv('data.csv', index=False)\n",
    "df.dropna(inplace=True)\n"
   ]
  },
  {
   "cell_type": "code",
   "execution_count": 9,
   "metadata": {},
   "outputs": [
    {
     "data": {
      "image/png": "[encoded data removed]",
      "text/plain": [
       "<Figure size 1000x700 with 1 Axes>"
      ]
     },
     "metadata": {},
     "output_type": "display_data"
    }
   ],
   "source": [
    "# detect anomalies in driprate column\n",
    "\n",
    "x = df['driprate'].values\n",
    "x = x.reshape(-1, 1)\n",
    "\n",
    "from sklearn.cluster import DBSCAN\n",
    "outlier_detection = DBSCAN(\n",
    "    eps = .2,  # .2-.5\n",
    "    metric=\"euclidean\",\n",
    "    min_samples = 5,\n",
    "    n_jobs = -1)\n",
    "clusters = outlier_detection.fit_predict(x)\n",
    "list(clusters).count(-1)\n",
    "\n",
    "# plot the driprate column\n",
    "plt.figure(figsize=(10, 7))\n",
    "plt.scatter(x[:,0], x[:,0], c=clusters, cmap='Paired')\n",
    "plt.xlabel('driprate')\n",
    "plt.ylabel('driprate')\n",
    "plt.title('driprate')\n",
    "plt.show()\n",
    "\n",
    "    "
   ]
  },
  {
   "cell_type": "code",
   "execution_count": 14,
   "metadata": {},
   "outputs": [],
   "source": [
    "def predict_anomaly(driprate_value):\n",
    "    driprate_value = np.array([[driprate_value]])\n",
    "    is_anomaly = -1 in outlier_detection.labels_\n",
    "    return is_anomaly"
   ]
  },
  {
   "cell_type": "code",
   "execution_count": 19,
   "metadata": {},
   "outputs": [
    {
     "name": "stdout",
     "output_type": "stream",
     "text": [
      "0.0 True\n",
      "0.1 True\n",
      "0.2 True\n",
      "0.3 True\n",
      "0.4 True\n",
      "0.5 True\n",
      "0.6 True\n",
      "0.7 True\n",
      "0.8 True\n",
      "0.9 True\n",
      "1.0 True\n",
      "1.1 True\n",
      "1.2 True\n",
      "1.3 True\n",
      "1.4 True\n",
      "1.5 True\n",
      "1.6 True\n",
      "1.7 True\n",
      "1.8 True\n",
      "1.9 True\n",
      "2.0 True\n",
      "2.1 True\n",
      "2.2 True\n",
      "2.3 True\n",
      "2.4 True\n",
      "2.5 True\n",
      "2.6 True\n",
      "2.7 True\n",
      "2.8 True\n",
      "2.9 True\n",
      "3.0 True\n",
      "3.1 True\n",
      "3.2 True\n",
      "3.3 True\n",
      "3.4 True\n",
      "3.5 True\n",
      "3.6 True\n",
      "3.7 True\n",
      "3.8 True\n",
      "3.9 True\n",
      "4.0 True\n",
      "4.1 True\n",
      "4.2 True\n",
      "4.3 True\n",
      "4.4 True\n",
      "4.5 True\n",
      "4.6 True\n",
      "4.7 True\n",
      "4.8 True\n",
      "4.9 True\n",
      "5.0 True\n",
      "5.1 True\n",
      "5.2 True\n",
      "5.3 True\n",
      "5.4 True\n",
      "5.5 True\n",
      "5.6 True\n",
      "5.7 True\n",
      "5.8 True\n",
      "5.9 True\n",
      "6.0 True\n",
      "6.1 True\n",
      "6.2 True\n",
      "6.3 True\n",
      "6.4 True\n",
      "6.5 True\n",
      "6.6 True\n",
      "6.7 True\n",
      "6.8 True\n",
      "6.9 True\n",
      "7.0 True\n",
      "7.1 True\n",
      "7.2 True\n",
      "7.3 True\n",
      "7.4 True\n",
      "7.5 True\n",
      "7.6 True\n",
      "7.7 True\n",
      "7.8 True\n",
      "7.9 True\n",
      "8.0 True\n",
      "8.1 True\n",
      "8.2 True\n",
      "8.3 True\n",
      "8.4 True\n",
      "8.5 True\n",
      "8.6 True\n",
      "8.7 True\n",
      "8.8 True\n",
      "8.9 True\n",
      "9.0 True\n",
      "9.1 True\n",
      "9.2 True\n",
      "9.3 True\n",
      "9.4 True\n",
      "9.5 True\n",
      "9.6 True\n",
      "9.7 True\n",
      "9.8 True\n",
      "9.9 True\n"
     ]
    }
   ],
   "source": [
    "# in range 0 to 10 with step 0.1\n",
    "for i in range(0, 100, 1):\n",
    "\n",
    "    print(i/10, predict_anomaly(0.205))\n",
    "    "
   ]
  },
  {
   "attachments": {},
   "cell_type": "markdown",
   "metadata": {},
   "source": [
    "# time prediction"
   ]
  },
  {
   "cell_type": "code",
   "execution_count": null,
   "metadata": {},
   "outputs": [],
   "source": []
  }
 ],
 "metadata": {
  "kernelspec": {
   "display_name": "Python 3",
   "language": "python",
   "name": "python3"
  },
  "language_info": {
   "codemirror_mode": {
    "name": "ipython",
    "version": 3
   },
   "file_extension": ".py",
   "mimetype": "text/x-python",
   "name": "python",
   "nbconvert_exporter": "python",
   "pygments_lexer": "ipython3",
   "version": "3.9.13"
  },
  "orig_nbformat": 4
 },
 "nbformat": 4,
 "nbformat_minor": 2
}
